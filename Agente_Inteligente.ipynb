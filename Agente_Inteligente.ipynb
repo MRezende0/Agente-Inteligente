{
  "nbformat": 4,
  "nbformat_minor": 0,
  "metadata": {
    "colab": {
      "provenance": []
    },
    "kernelspec": {
      "name": "python3",
      "display_name": "Python 3"
    },
    "language_info": {
      "name": "python"
    }
  },
  "cells": [
    {
      "cell_type": "code",
      "execution_count": null,
      "metadata": {
        "id": "aZ_725itno7D"
      },
      "outputs": [],
      "source": [
        "import random\n",
        "import math"
      ]
    },
    {
      "cell_type": "code",
      "source": [
        "def calcular_distancia(caminho, matriz_distancias):\n",
        "    distancia_total = 0\n",
        "    for i in range(len(caminho) - 1):\n",
        "        distancia_total += matriz_distancias[caminho[i]][caminho[i + 1]]\n",
        "    distancia_total += matriz_distancias[caminho[-1]][caminho[0]]\n",
        "    return distancia_total"
      ],
      "metadata": {
        "id": "FwXc2XC5n0do"
      },
      "execution_count": null,
      "outputs": []
    },
    {
      "cell_type": "code",
      "source": [
        "def simulated_annealing(matriz_distancias, temperatura_inicial, taxa_resfriamento, iteracoes):\n",
        "    n_cidades = len(matriz_distancias)\n",
        "    caminho_atual = list(range(n_cidades))\n",
        "    random.shuffle(caminho_atual)\n",
        "    melhor_caminho = caminho_atual\n",
        "    temperatura_atual = temperatura_inicial\n",
        "\n",
        "    for _ in range(iteracoes):\n",
        "        vizinho = list(caminho_atual)\n",
        "        i, j = random.sample(range(n_cidades), 2)\n",
        "        vizinho[i], vizinho[j] = vizinho[j], vizinho[i]\n",
        "\n",
        "        custo_atual = calcular_distancia(caminho_atual, matriz_distancias)\n",
        "        custo_vizinho = calcular_distancia(vizinho, matriz_distancias)\n",
        "\n",
        "        if custo_vizinho < custo_atual or random.uniform(0, 1) < math.exp((custo_atual - custo_vizinho) / temperatura_atual):\n",
        "            caminho_atual = list(vizinho)\n",
        "\n",
        "        if calcular_distancia(caminho_atual, matriz_distancias) < calcular_distancia(melhor_caminho, matriz_distancias):\n",
        "            melhor_caminho = list(caminho_atual)\n",
        "\n",
        "        temperatura_atual *= 1 - taxa_resfriamento\n",
        "\n",
        "    return melhor_caminho"
      ],
      "metadata": {
        "id": "FBU7uXctn2j3"
      },
      "execution_count": null,
      "outputs": []
    },
    {
      "cell_type": "code",
      "source": [
        "matriz_distancias = [\n",
        "    [0, 10, 15, 20],\n",
        "    [10, 0, 35, 25],\n",
        "    [15, 35, 0, 30],\n",
        "    [20, 25, 30, 0]\n",
        "]"
      ],
      "metadata": {
        "id": "C9KG3S6woHqr"
      },
      "execution_count": null,
      "outputs": []
    },
    {
      "cell_type": "code",
      "source": [
        "temperatura_inicial = 1000\n",
        "taxa_resfriamento = 0.03\n",
        "iteracoes = 10000"
      ],
      "metadata": {
        "id": "h3VX2c1yoKhZ"
      },
      "execution_count": null,
      "outputs": []
    },
    {
      "cell_type": "code",
      "source": [
        "melhor_caminho = simulated_annealing(matriz_distancias, temperatura_inicial, taxa_resfriamento, iteracoes)\n",
        "print(\"Melhor caminho encontrado:\", melhor_caminho)\n",
        "print(\"Distância total do melhor caminho:\", calcular_distancia(melhor_caminho, matriz_distancias))"
      ],
      "metadata": {
        "colab": {
          "base_uri": "https://localhost:8080/"
        },
        "id": "Xogh2uZdoMGm",
        "outputId": "f667c469-741a-4321-c8d2-5a3d8460635a"
      },
      "execution_count": null,
      "outputs": [
        {
          "output_type": "stream",
          "name": "stdout",
          "text": [
            "Melhor caminho encontrado: [1, 0, 2, 3]\n",
            "Distância total do melhor caminho: 80\n"
          ]
        }
      ]
    }
  ]
}